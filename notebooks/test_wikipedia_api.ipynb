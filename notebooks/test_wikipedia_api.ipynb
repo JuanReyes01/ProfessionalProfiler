{
 "cells": [
  {
   "cell_type": "markdown",
   "id": "4fe5d0a2",
   "metadata": {},
   "source": [
    "# Wikipedia API basic test\n",
    "The purpose of this notebook is to test wikipedia's API capabilities."
   ]
  },
  {
   "cell_type": "markdown",
   "id": "1a5dedd1",
   "metadata": {},
   "source": [
    "## Configuration"
   ]
  },
  {
   "cell_type": "code",
   "execution_count": null,
   "id": "ccaca6d1",
   "metadata": {},
   "outputs": [],
   "source": [
    "from dotenv import load_dotenv\n",
    "import os\n",
    "\n",
    "load_dotenv()\n"
   ]
  },
  {
   "cell_type": "markdown",
   "id": "3dea1e75",
   "metadata": {},
   "source": [
    "## TEST1: Calling today's featured article"
   ]
  },
  {
   "cell_type": "code",
   "execution_count": null,
   "id": "5b2cea84",
   "metadata": {},
   "outputs": [],
   "source": [
    "# Get today's date in YYYY/MM/DD format.\n",
    "import datetime\n",
    "\n",
    "today = datetime.datetime.now()\n",
    "date = today.strftime('%Y/%m/%d')\n",
    "\n",
    "# Choose your language, and get today's featured content.\n",
    "import requests\n",
    "\n",
    "language_code = 'en' # English\n",
    "headers = {\n",
    "    'Authorization': 'Bearer ' + os.getenv(\"WP_ACCESS_TOKEN\"),\n",
    "    'User-Agent': 'juancreyes201@gmail.com'\n",
    "}\n",
    "\n",
    "base_url = 'https://api.wikimedia.org/feed/v1/wikipedia/'\n",
    "url = base_url + language_code + '/featured/' + date\n",
    "response = requests.get(url, headers=headers)"
   ]
  },
  {
   "cell_type": "code",
   "execution_count": 3,
   "id": "e24ae125",
   "metadata": {},
   "outputs": [
    {
     "data": {
      "application/vnd.microsoft.datawrangler.viewer.v0+json": {
       "columns": [
        {
         "name": "index",
         "rawType": "int64",
         "type": "integer"
        },
        {
         "name": "display_title",
         "rawType": "object",
         "type": "string"
        },
        {
         "name": "desktop_url",
         "rawType": "object",
         "type": "string"
        },
        {
         "name": "extract_html",
         "rawType": "object",
         "type": "string"
        },
        {
         "name": "thumbnail_url",
         "rawType": "object",
         "type": "string"
        }
       ],
       "conversionMethod": "pd.DataFrame",
       "ref": "1d3e8537-7f26-4167-b51c-87c168cbb43b",
       "rows": [
        [
         "0",
         "<span class=\"mw-page-title-main\">Tesla Model S</span>",
         "https://en.wikipedia.org/wiki/Tesla_Model_S",
         "<p>The <b>Tesla Model S</b> is a battery-electric, four-door full-size car produced by the American automaker Tesla since 2012. The automaker's second vehicle and longest-produced model, the Model S has both received mixed reviews from critics and also been described as one of the most influential electric cars in the industry. Its <span class=\"mw-selflink-fragment\">various accolades</span> include the <span><i>Motor Trend</i> Car of the Year Award</span> in 2013.</p>",
         "https://upload.wikimedia.org/wikipedia/commons/thumb/9/9e/Tesla_Model_S_%28Facelift_ab_04-2016%29_%28cropped%29.jpg/960px-Tesla_Model_S_%28Facelift_ab_04-2016%29_%28cropped%29.jpg"
        ]
       ],
       "shape": {
        "columns": 4,
        "rows": 1
       }
      },
      "text/html": [
       "<div>\n",
       "<style scoped>\n",
       "    .dataframe tbody tr th:only-of-type {\n",
       "        vertical-align: middle;\n",
       "    }\n",
       "\n",
       "    .dataframe tbody tr th {\n",
       "        vertical-align: top;\n",
       "    }\n",
       "\n",
       "    .dataframe thead th {\n",
       "        text-align: right;\n",
       "    }\n",
       "</style>\n",
       "<table border=\"1\" class=\"dataframe\">\n",
       "  <thead>\n",
       "    <tr style=\"text-align: right;\">\n",
       "      <th></th>\n",
       "      <th>display_title</th>\n",
       "      <th>desktop_url</th>\n",
       "      <th>extract_html</th>\n",
       "      <th>thumbnail_url</th>\n",
       "    </tr>\n",
       "  </thead>\n",
       "  <tbody>\n",
       "    <tr>\n",
       "      <th>0</th>\n",
       "      <td>&lt;span class=\"mw-page-title-main\"&gt;Tesla Model S...</td>\n",
       "      <td>https://en.wikipedia.org/wiki/Tesla_Model_S</td>\n",
       "      <td>&lt;p&gt;The &lt;b&gt;Tesla Model S&lt;/b&gt; is a battery-elect...</td>\n",
       "      <td>https://upload.wikimedia.org/wikipedia/commons...</td>\n",
       "    </tr>\n",
       "  </tbody>\n",
       "</table>\n",
       "</div>"
      ],
      "text/plain": [
       "                                       display_title  \\\n",
       "0  <span class=\"mw-page-title-main\">Tesla Model S...   \n",
       "\n",
       "                                   desktop_url  \\\n",
       "0  https://en.wikipedia.org/wiki/Tesla_Model_S   \n",
       "\n",
       "                                        extract_html  \\\n",
       "0  <p>The <b>Tesla Model S</b> is a battery-elect...   \n",
       "\n",
       "                                       thumbnail_url  \n",
       "0  https://upload.wikimedia.org/wikipedia/commons...  "
      ]
     },
     "metadata": {},
     "output_type": "display_data"
    }
   ],
   "source": [
    "# Get the featured article's title, URL, extract, and thumbnail.\n",
    "import json\n",
    "import pandas as pd\n",
    "response = json.loads(response.text)\n",
    "\n",
    "display_title = response['tfa']['titles']['display']\n",
    "desktop_url = response['tfa']['content_urls']['desktop']['page']\n",
    "extract_html = response['tfa']['extract_html']\n",
    "thumbnail_url = response['tfa']['thumbnail']['source']\n",
    "data = {\n",
    "    'display_title': display_title,\n",
    "    'desktop_url': desktop_url,\n",
    "    'extract_html': extract_html,\n",
    "    'thumbnail_url': thumbnail_url\n",
    "}\n",
    "df = pd.DataFrame(data, index=[0])\n",
    "display(df)"
   ]
  },
  {
   "cell_type": "markdown",
   "id": "f0e0a8e4",
   "metadata": {},
   "source": [
    "## TEST2: Obtain a subject using API"
   ]
  },
  {
   "cell_type": "markdown",
   "id": "7508024c",
   "metadata": {},
   "source": [
    "### Known subject with article"
   ]
  },
  {
   "cell_type": "code",
   "execution_count": 72,
   "id": "cdb2708a",
   "metadata": {},
   "outputs": [
    {
     "name": "stdout",
     "output_type": "stream",
     "text": [
      "{\"pages\":[{\"id\":313701,\"key\":\"Paul_Krugman\",\"title\":\"Paul Krugman\",\"excerpt\":\"<span class=\\\"searchmatch\\\">Paul</span> Robin <span class=\\\"searchmatch\\\">Krugman</span> (/ˈkrʊɡmən/ KRUUG-mən; born February 28, 1953) is an American New Keynesian economist who is the Distinguished Professor of Economics\",\"matched_title\":null,\"anchor\":null,\"description\":\"American economist (born 1953)\",\"thumbnail\":{\"mimetype\":\"image/jpeg\",\"width\":60,\"height\":80,\"duration\":null,\"url\":\"//upload.wikimedia.org/wikipedia/commons/thumb/9/9c/P20230814AS-0367_%28cropped%29.jpg/60px-P20230814AS-0367_%28cropped%29.jpg\"}}]}\n"
     ]
    }
   ],
   "source": [
    "import requests\n",
    "language_code = 'en'\n",
    "headers = {\n",
    "    'Authorization': os.getenv(\"WP_ACCESS_TOKEN\"),\n",
    "}\n",
    "search_query = 'Paul Krugman'\n",
    "number_of_results = 1\n",
    "base_url = 'https://api.wikimedia.org/core/v1/wikipedia/'\n",
    "endpoint = '/search/page'\n",
    "url = base_url + language_code + endpoint\n",
    "parameters = {'q': search_query, 'limit': number_of_results}\n",
    "rs = requests.get(url, headers=headers, params=parameters)\n",
    "print(rs.text)"
   ]
  },
  {
   "cell_type": "code",
   "execution_count": 75,
   "id": "34372383",
   "metadata": {},
   "outputs": [
    {
     "name": "stdout",
     "output_type": "stream",
     "text": [
      "True\n",
      "{'pages': [{'id': 313701, 'key': 'Paul_Krugman', 'title': 'Paul Krugman', 'excerpt': '<span class=\"searchmatch\">Paul</span> Robin <span class=\"searchmatch\">Krugman</span> (/ˈkrʊɡmən/ KRUUG-mən; born February 28, 1953) is an American New Keynesian economist who is the Distinguished Professor of Economics', 'matched_title': None, 'anchor': None, 'description': 'American economist (born 1953)', 'thumbnail': {'mimetype': 'image/jpeg', 'width': 60, 'height': 80, 'duration': None, 'url': '//upload.wikimedia.org/wikipedia/commons/thumb/9/9c/P20230814AS-0367_%28cropped%29.jpg/60px-P20230814AS-0367_%28cropped%29.jpg'}}]}\n",
      "https://en.wikipedia.org/wiki/Paul_Krugman\n",
      "American economist (born 1953)\n"
     ]
    }
   ],
   "source": [
    "# Get article title, description, and URL from the search results\n",
    "import json\n",
    "\n",
    "response = rs.json()\n",
    "for page in response['pages']:\n",
    "    display_title = page['title']\n",
    "    article_url = 'https://' + language_code + '.wikipedia.org/wiki/' + page['key']\n",
    "\n",
    "    try:\n",
    "        article_description = page['description']\n",
    "    except:\n",
    "        article_description = 'a Wikipedia article'\n",
    "    try:\n",
    "        thumbnail_url = 'https:' + page['thumbnail']['url']\n",
    "    except:\n",
    "        thumbnail_url = 'https://upload.wikimedia.org/wikipedia/commons/thumb/8/80/Wikipedia-logo-v2.svg/200px-Wikipedia-logo-v2.svg.png'\n",
    "#Testing status code id\n",
    "print(rs.status_code == 200)\n",
    "\n",
    "# Print the results\n",
    "print(response)\n",
    "print(article_url)\n",
    "print(article_description)\n"
   ]
  },
  {
   "cell_type": "markdown",
   "id": "4ceebbe5",
   "metadata": {},
   "source": [
    "### Known subject with multiple articles (other people with the same name with articles exist)"
   ]
  },
  {
   "cell_type": "code",
   "execution_count": 81,
   "id": "712a6855",
   "metadata": {},
   "outputs": [],
   "source": [
    "import requests\n",
    "language_code = 'en'\n",
    "search_query = 'James Freeman'\n",
    "headers = {\n",
    "    'Authorization': os.getenv(\"WP_ACCESS_TOKEN\"),\n",
    "}\n",
    "number_of_results = 1\n",
    "base_url = 'https://api.wikimedia.org/core/v1/wikipedia/'\n",
    "endpoint = '/search/page'\n",
    "url = base_url + language_code + endpoint\n",
    "parameters = {'q': search_query, 'limit': number_of_results}\n",
    "rs = requests.get(url, headers=headers, params=parameters)"
   ]
  },
  {
   "cell_type": "code",
   "execution_count": 82,
   "id": "5ccb4b13",
   "metadata": {},
   "outputs": [
    {
     "name": "stdout",
     "output_type": "stream",
     "text": [
      "{'pages': [{'id': 907661, 'key': 'James_Freeman', 'title': 'James Freeman', 'excerpt': '<span class=\"searchmatch\">James</span> <span class=\"searchmatch\">Freeman</span> or Jim <span class=\"searchmatch\">Freeman</span> may refer to: <span class=\"searchmatch\">James</span> <span class=\"searchmatch\">Freeman</span> (clergyman) (1759–1835), American Unitarian clergyman <span class=\"searchmatch\">James</span> <span class=\"searchmatch\">Freeman</span> (conductor), American musical', 'matched_title': None, 'anchor': None, 'description': 'Topics referred to by the same term', 'thumbnail': None}]}\n",
      "https://en.wikipedia.org/wiki/James_Freeman\n",
      "Multiple matches\n"
     ]
    }
   ],
   "source": [
    "# Get article title, description, and URL from the search results\n",
    "import json\n",
    "response = json.loads(rs.text)\n",
    "\n",
    "\n",
    "\n",
    "for page in response['pages']:\n",
    "    display_title = page['title']\n",
    "    key = page.get(\"key\", \"\")\n",
    "    article_url = 'https://' + language_code + '.wikipedia.org/wiki/' + page['key']\n",
    "    try:\n",
    "        article_description = page['description']\n",
    "    except:\n",
    "        article_description = 'a Wikipedia article'\n",
    "\n",
    "print(response)\n",
    "print(article_url)\n",
    "res = 'Multiple matches' if article_description=='Topics referred to by the same term' else article_description\n",
    "print(res)"
   ]
  },
  {
   "cell_type": "markdown",
   "id": "5c54f59a",
   "metadata": {},
   "source": [
    "### TEST3: If author does not exist"
   ]
  },
  {
   "cell_type": "code",
   "execution_count": 83,
   "id": "b89fb5d4",
   "metadata": {},
   "outputs": [],
   "source": [
    "import requests\n",
    "language_code = 'en'\n",
    "search_query = 'Ilana Masad'\n",
    "number_of_results = 1\n",
    "base_url = 'https://api.wikimedia.org/core/v1/wikipedia/'\n",
    "endpoint = '/search/page'\n",
    "url = base_url + language_code + endpoint\n",
    "parameters = {'q': search_query, 'limit': number_of_results}\n",
    "rs = requests.get(url, headers=headers, params=parameters)"
   ]
  },
  {
   "cell_type": "code",
   "execution_count": 84,
   "id": "ffad3421",
   "metadata": {},
   "outputs": [
    {
     "name": "stdout",
     "output_type": "stream",
     "text": [
      "{'pages': [{'id': 47199945, 'key': 'A_Little_Life', 'title': 'A Little Life', 'excerpt': 'the enduring grace of friendship&quot;, he concluded. Similarly, in Bustle, <span class=\"searchmatch\">Ilana</span> <span class=\"searchmatch\">Masad</span> wrote that Yanagihara explored &quot;just what the title implies&quot;, which is', 'matched_title': None, 'anchor': None, 'description': '2015 novel by Hanya Yanagihara', 'thumbnail': None}]}\n",
      "https://en.wikipedia.org/wiki/A_Little_Life\n",
      "no match\n"
     ]
    }
   ],
   "source": [
    "# Get article title, description, and URL from the search results\n",
    "import json\n",
    "\n",
    "response = json.loads(rs.text)\n",
    "\n",
    "for page in response['pages']:\n",
    "    display_title = page['title']\n",
    "    article_url = 'https://' + language_code + '.wikipedia.org/wiki/' + page['key']\n",
    "    try:\n",
    "        article_description = page['description']\n",
    "    except:\n",
    "        article_description = 'a Wikipedia article'\n",
    "\n",
    "print(response)\n",
    "res = 'no match' if search_query.split(' ')[0] not in response['pages'][0]['key'] else article_description #must apply normalization\n",
    "print(article_url)\n",
    "print(res)\n"
   ]
  },
  {
   "cell_type": "markdown",
   "id": "067df7cc",
   "metadata": {},
   "source": [
    "### Joined model"
   ]
  },
  {
   "cell_type": "code",
   "execution_count": null,
   "id": "2a036a82",
   "metadata": {},
   "outputs": [
    {
     "name": "stdout",
     "output_type": "stream",
     "text": [
      "'Paul Krugman ': no exact match\n",
      "'James Freeman': Multiple matches\n",
      "'Ilana Masad': no exact match\n"
     ]
    }
   ],
   "source": [
    "import os\n",
    "import requests\n",
    "\n",
    "BASE_URL = \"https://api.wikimedia.org/core/v1/wikipedia\"\n",
    "HEADERS = {\n",
    "    \"Authorization\": os.getenv(\"WP_ACCESS_TOKEN\", \"\")\n",
    "}\n",
    "TIMEOUT = 5\n",
    "\n",
    "def search_description(query: str, lang: str = \"en\") -> str:\n",
    "    url = f\"{BASE_URL}/{lang}/search/page\"\n",
    "    params = {\"q\": query, \"limit\": 1}\n",
    "\n",
    "    try:\n",
    "        rs = requests.get(url, headers=HEADERS, params=params, timeout=TIMEOUT)\n",
    "        rs.raise_for_status()\n",
    "        data = rs.json()\n",
    "    except requests.HTTPError:\n",
    "        return \"HTTP error\"\n",
    "    except requests.RequestException:\n",
    "        return \"Network error\"\n",
    "    except ValueError:\n",
    "        return \"Invalid JSON\"\n",
    "\n",
    "    pages = data.get(\"pages\", [])\n",
    "    if not pages:\n",
    "        return \"no results\"\n",
    "\n",
    "    page = pages[0]\n",
    "    key = page.get(\"key\", \"\")\n",
    "    desc = page.get(\"description\", \"\")\n",
    "\n",
    "    # Disambiguation detection\n",
    "    if desc == \"Topics referred to by the same term\":\n",
    "        return \"Multiple matches\"\n",
    "\n",
    "    # Exact-match detection\n",
    "    normalized_key   = key.lower().replace(\" \", \"_\")\n",
    "    normalized_query = query.lower().replace(\" \", \"_\")\n",
    "    if normalized_key != normalized_query:\n",
    "        return \"no exact match\"\n",
    "\n",
    "    # Fallback to whatever description we got (or a default)\n",
    "    return desc or \"No description available\"\n",
    "\n",
    "\n",
    "if __name__ == \"__main__\":\n",
    "    queries = [\"Paul Krugman\", \"James Freeman\", \"Ilana Masad\"]\n",
    "    for q in queries:\n",
    "        result = search_description(q)\n",
    "        print(f\"{q!r}: {result}\")\n"
   ]
  }
 ],
 "metadata": {
  "kernelspec": {
   "display_name": ".venv",
   "language": "python",
   "name": "python3"
  },
  "language_info": {
   "codemirror_mode": {
    "name": "ipython",
    "version": 3
   },
   "file_extension": ".py",
   "mimetype": "text/x-python",
   "name": "python",
   "nbconvert_exporter": "python",
   "pygments_lexer": "ipython3",
   "version": "3.12.10"
  }
 },
 "nbformat": 4,
 "nbformat_minor": 5
}
