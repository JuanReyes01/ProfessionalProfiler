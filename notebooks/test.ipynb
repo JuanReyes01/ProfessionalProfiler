{
 "cells": [
  {
   "cell_type": "code",
   "execution_count": 14,
   "id": "1d9d052e",
   "metadata": {},
   "outputs": [
    {
     "name": "stdout",
     "output_type": "stream",
     "text": [
      "<bound method NDFrame.head of      id              subject  \\\n",
      "0     1         Harry Litman   \n",
      "1     2        Jamelle Bouie   \n",
      "2     3          Samuel Moyn   \n",
      "3     4    Michelle Goldberg   \n",
      "4     5         Peter Singer   \n",
      "..  ...                  ...   \n",
      "95   96        Sella, Rotem.   \n",
      "96   97       Horner, Chris.   \n",
      "97   98       Sorkin, Aaron.   \n",
      "98   99  Andrew Ross Sorkin.   \n",
      "99  100       Hughes, Robert   \n",
      "\n",
      "                                                 urls  \n",
      "0          https://en.wikipedia.org/wiki/Harry_Litman  \n",
      "1         https://en.wikipedia.org/wiki/Jamelle_Bouie  \n",
      "2           https://en.wikipedia.org/wiki/Samuel_Moyn  \n",
      "3     https://en.wikipedia.org/wiki/Michelle_Goldberg  \n",
      "4          https://en.wikipedia.org/wiki/Peter_Singer  \n",
      "..                                                ...  \n",
      "95           https://en.wikipedia.org/wiki/Rotem_Sela  \n",
      "96         https://en.wikipedia.org/wiki/Chris_Horner  \n",
      "97         https://en.wikipedia.org/wiki/Aaron_Sorkin  \n",
      "98   https://en.wikipedia.org/wiki/Andrew_Ross_Sorkin  \n",
      "99  https://en.wikipedia.org/wiki/Robert_Hughes_(c...  \n",
      "\n",
      "[100 rows x 3 columns]>\n"
     ]
    }
   ],
   "source": [
    "import pandas as pd\n",
    "\n",
    "df = pd.read_csv('../data/test/autores_wikipediaTest.csv')\n",
    "print(df.head)"
   ]
  },
  {
   "cell_type": "code",
   "execution_count": 16,
   "id": "38d1548a",
   "metadata": {},
   "outputs": [],
   "source": [
    "names = df['subject'].copy()\n",
    "# Get the first name when it applies \n",
    "names = names.str.split(', ', expand=True)"
   ]
  },
  {
   "cell_type": "code",
   "execution_count": 17,
   "id": "6e245380",
   "metadata": {},
   "outputs": [
    {
     "data": {
      "application/vnd.microsoft.datawrangler.viewer.v0+json": {
       "columns": [
        {
         "name": "index",
         "rawType": "int64",
         "type": "integer"
        },
        {
         "name": "0",
         "rawType": "object",
         "type": "string"
        }
       ],
       "conversionMethod": "pd.DataFrame",
       "ref": "214d1327-00bb-4a05-b124-76863f295b32",
       "rows": [
        [
         "0",
         "Harry Litman"
        ],
        [
         "1",
         "Jamelle Bouie"
        ],
        [
         "2",
         "Samuel Moyn"
        ],
        [
         "3",
         "Michelle Goldberg"
        ],
        [
         "4",
         "Peter Singer"
        ]
       ],
       "shape": {
        "columns": 1,
        "rows": 5
       }
      },
      "text/html": [
       "<div>\n",
       "<style scoped>\n",
       "    .dataframe tbody tr th:only-of-type {\n",
       "        vertical-align: middle;\n",
       "    }\n",
       "\n",
       "    .dataframe tbody tr th {\n",
       "        vertical-align: top;\n",
       "    }\n",
       "\n",
       "    .dataframe thead th {\n",
       "        text-align: right;\n",
       "    }\n",
       "</style>\n",
       "<table border=\"1\" class=\"dataframe\">\n",
       "  <thead>\n",
       "    <tr style=\"text-align: right;\">\n",
       "      <th></th>\n",
       "      <th>0</th>\n",
       "    </tr>\n",
       "  </thead>\n",
       "  <tbody>\n",
       "    <tr>\n",
       "      <th>0</th>\n",
       "      <td>Harry Litman</td>\n",
       "    </tr>\n",
       "    <tr>\n",
       "      <th>1</th>\n",
       "      <td>Jamelle Bouie</td>\n",
       "    </tr>\n",
       "    <tr>\n",
       "      <th>2</th>\n",
       "      <td>Samuel Moyn</td>\n",
       "    </tr>\n",
       "    <tr>\n",
       "      <th>3</th>\n",
       "      <td>Michelle Goldberg</td>\n",
       "    </tr>\n",
       "    <tr>\n",
       "      <th>4</th>\n",
       "      <td>Peter Singer</td>\n",
       "    </tr>\n",
       "  </tbody>\n",
       "</table>\n",
       "</div>"
      ],
      "text/plain": [
       "                   0\n",
       "0       Harry Litman\n",
       "1      Jamelle Bouie\n",
       "2        Samuel Moyn\n",
       "3  Michelle Goldberg\n",
       "4       Peter Singer"
      ]
     },
     "execution_count": 17,
     "metadata": {},
     "output_type": "execute_result"
    }
   ],
   "source": [
    "def normalizeNames(row):\n",
    "    if row[1] != None:\n",
    "        ret = str(row[1]).strip('.;') +\" \"+ str(row[0]).strip(';. ')\n",
    "        if row[2] != None:\n",
    "            return ret + \" \"+str(row[2]).strip(';.')\n",
    "        else:\n",
    "            return ret\n",
    "    else:\n",
    "        return row[0]\n",
    "names[0] = names.apply(normalizeNames, axis=1)\n",
    "del names[1]\n",
    "del names[2]\n",
    "names.head()"
   ]
  },
  {
   "cell_type": "code",
   "execution_count": 18,
   "id": "e57ba199",
   "metadata": {},
   "outputs": [
    {
     "data": {
      "application/vnd.microsoft.datawrangler.viewer.v0+json": {
       "columns": [
        {
         "name": "index",
         "rawType": "int64",
         "type": "integer"
        },
        {
         "name": "author_name",
         "rawType": "object",
         "type": "string"
        },
        {
         "name": "id",
         "rawType": "int64",
         "type": "integer"
        },
        {
         "name": "urls",
         "rawType": "object",
         "type": "string"
        }
       ],
       "conversionMethod": "pd.DataFrame",
       "ref": "bedd38ac-7b4c-4ad0-beef-aeed7c218b22",
       "rows": [
        [
         "0",
         "Harry Litman",
         "1",
         "https://en.wikipedia.org/wiki/Harry_Litman"
        ],
        [
         "1",
         "Jamelle Bouie",
         "2",
         "https://en.wikipedia.org/wiki/Jamelle_Bouie"
        ],
        [
         "2",
         "Samuel Moyn",
         "3",
         "https://en.wikipedia.org/wiki/Samuel_Moyn"
        ],
        [
         "3",
         "Michelle Goldberg",
         "4",
         "https://en.wikipedia.org/wiki/Michelle_Goldberg"
        ],
        [
         "4",
         "Peter Singer",
         "5",
         "https://en.wikipedia.org/wiki/Peter_Singer"
        ]
       ],
       "shape": {
        "columns": 3,
        "rows": 5
       }
      },
      "text/html": [
       "<div>\n",
       "<style scoped>\n",
       "    .dataframe tbody tr th:only-of-type {\n",
       "        vertical-align: middle;\n",
       "    }\n",
       "\n",
       "    .dataframe tbody tr th {\n",
       "        vertical-align: top;\n",
       "    }\n",
       "\n",
       "    .dataframe thead th {\n",
       "        text-align: right;\n",
       "    }\n",
       "</style>\n",
       "<table border=\"1\" class=\"dataframe\">\n",
       "  <thead>\n",
       "    <tr style=\"text-align: right;\">\n",
       "      <th></th>\n",
       "      <th>author_name</th>\n",
       "      <th>id</th>\n",
       "      <th>urls</th>\n",
       "    </tr>\n",
       "  </thead>\n",
       "  <tbody>\n",
       "    <tr>\n",
       "      <th>0</th>\n",
       "      <td>Harry Litman</td>\n",
       "      <td>1</td>\n",
       "      <td>https://en.wikipedia.org/wiki/Harry_Litman</td>\n",
       "    </tr>\n",
       "    <tr>\n",
       "      <th>1</th>\n",
       "      <td>Jamelle Bouie</td>\n",
       "      <td>2</td>\n",
       "      <td>https://en.wikipedia.org/wiki/Jamelle_Bouie</td>\n",
       "    </tr>\n",
       "    <tr>\n",
       "      <th>2</th>\n",
       "      <td>Samuel Moyn</td>\n",
       "      <td>3</td>\n",
       "      <td>https://en.wikipedia.org/wiki/Samuel_Moyn</td>\n",
       "    </tr>\n",
       "    <tr>\n",
       "      <th>3</th>\n",
       "      <td>Michelle Goldberg</td>\n",
       "      <td>4</td>\n",
       "      <td>https://en.wikipedia.org/wiki/Michelle_Goldberg</td>\n",
       "    </tr>\n",
       "    <tr>\n",
       "      <th>4</th>\n",
       "      <td>Peter Singer</td>\n",
       "      <td>5</td>\n",
       "      <td>https://en.wikipedia.org/wiki/Peter_Singer</td>\n",
       "    </tr>\n",
       "  </tbody>\n",
       "</table>\n",
       "</div>"
      ],
      "text/plain": [
       "         author_name  id                                             urls\n",
       "0       Harry Litman   1       https://en.wikipedia.org/wiki/Harry_Litman\n",
       "1      Jamelle Bouie   2      https://en.wikipedia.org/wiki/Jamelle_Bouie\n",
       "2        Samuel Moyn   3        https://en.wikipedia.org/wiki/Samuel_Moyn\n",
       "3  Michelle Goldberg   4  https://en.wikipedia.org/wiki/Michelle_Goldberg\n",
       "4       Peter Singer   5       https://en.wikipedia.org/wiki/Peter_Singer"
      ]
     },
     "execution_count": 18,
     "metadata": {},
     "output_type": "execute_result"
    }
   ],
   "source": [
    "# add again autor_id column to names\n",
    "names['id'] = df['id']\n",
    "names['urls'] = df['urls']\n",
    "names = names.rename(columns={0: 'author_name'})\n",
    "# remove space at the end of the author_name\n",
    "names['author_name'] = names['author_name'].str.strip()\n",
    "# remove all white spaces and replace them with a single space\n",
    "names['author_name'] = names['author_name'].str.replace(r'\\s+', ' ', regex=True)\n",
    "# replace tab with space\n",
    "names['author_name'] = names['author_name'].str.replace('\\t', ' ')\n",
    "\n",
    "names.head()"
   ]
  },
  {
   "cell_type": "code",
   "execution_count": 19,
   "id": "44beca9c",
   "metadata": {},
   "outputs": [],
   "source": [
    "names.to_csv('../data/test/test_wikipedia_normalized.csv', index=False)"
   ]
  }
 ],
 "metadata": {
  "kernelspec": {
   "display_name": ".venv",
   "language": "python",
   "name": "python3"
  },
  "language_info": {
   "codemirror_mode": {
    "name": "ipython",
    "version": 3
   },
   "file_extension": ".py",
   "mimetype": "text/x-python",
   "name": "python",
   "nbconvert_exporter": "python",
   "pygments_lexer": "ipython3",
   "version": "3.12.10"
  }
 },
 "nbformat": 4,
 "nbformat_minor": 5
}
