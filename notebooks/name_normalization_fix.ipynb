{
 "cells": [
  {
   "cell_type": "markdown",
   "id": "754e8ebb",
   "metadata": {},
   "source": [
    "# Fixing name formating for wikipedia search\n",
    "This is a band aid fix for the big data management problem I have to tackle next"
   ]
  },
  {
   "cell_type": "code",
   "execution_count": 103,
   "id": "ece78496",
   "metadata": {},
   "outputs": [],
   "source": [
    "#IMPORTS\n",
    "import pandas as pd"
   ]
  },
  {
   "cell_type": "code",
   "execution_count": 104,
   "id": "79cf5ee0",
   "metadata": {},
   "outputs": [
    {
     "name": "stdout",
     "output_type": "stream",
     "text": [
      "                autor  id_autor\n",
      "0     Masad,   Ilana.         2\n",
      "1    Litman,   Harry.         3\n",
      "2     Hwang,   Suein.         4\n",
      "3   Bouie,   Jamelle.         5\n",
      "4  Proulx,   Natalie.         6\n"
     ]
    }
   ],
   "source": [
    "#Get data\n",
    "df = pd.read_csv('../data/raw/autores.csv')\n",
    "print(df.head())"
   ]
  },
  {
   "cell_type": "code",
   "execution_count": 105,
   "id": "096935b5",
   "metadata": {},
   "outputs": [
    {
     "data": {
      "application/vnd.microsoft.datawrangler.viewer.v0+json": {
       "columns": [
        {
         "name": "index",
         "rawType": "int64",
         "type": "integer"
        },
        {
         "name": "0",
         "rawType": "object",
         "type": "string"
        },
        {
         "name": "1",
         "rawType": "object",
         "type": "string"
        },
        {
         "name": "2",
         "rawType": "object",
         "type": "string"
        }
       ],
       "conversionMethod": "pd.DataFrame",
       "ref": "9b6e3744-3e04-4467-b72b-06dee1266553",
       "rows": [
        [
         "0",
         "Masad",
         "Ilana.",
         ""
        ],
        [
         "1",
         "Litman",
         "Harry.",
         ""
        ],
        [
         "2",
         "Hwang",
         "Suein.",
         ""
        ],
        [
         "3",
         "Bouie",
         "Jamelle.",
         ""
        ],
        [
         "4",
         "Proulx",
         "Natalie.",
         ""
        ]
       ],
       "shape": {
        "columns": 3,
        "rows": 5
       }
      },
      "text/html": [
       "<div>\n",
       "<style scoped>\n",
       "    .dataframe tbody tr th:only-of-type {\n",
       "        vertical-align: middle;\n",
       "    }\n",
       "\n",
       "    .dataframe tbody tr th {\n",
       "        vertical-align: top;\n",
       "    }\n",
       "\n",
       "    .dataframe thead th {\n",
       "        text-align: right;\n",
       "    }\n",
       "</style>\n",
       "<table border=\"1\" class=\"dataframe\">\n",
       "  <thead>\n",
       "    <tr style=\"text-align: right;\">\n",
       "      <th></th>\n",
       "      <th>0</th>\n",
       "      <th>1</th>\n",
       "      <th>2</th>\n",
       "    </tr>\n",
       "  </thead>\n",
       "  <tbody>\n",
       "    <tr>\n",
       "      <th>0</th>\n",
       "      <td>Masad</td>\n",
       "      <td>Ilana.</td>\n",
       "      <td></td>\n",
       "    </tr>\n",
       "    <tr>\n",
       "      <th>1</th>\n",
       "      <td>Litman</td>\n",
       "      <td>Harry.</td>\n",
       "      <td></td>\n",
       "    </tr>\n",
       "    <tr>\n",
       "      <th>2</th>\n",
       "      <td>Hwang</td>\n",
       "      <td>Suein.</td>\n",
       "      <td></td>\n",
       "    </tr>\n",
       "    <tr>\n",
       "      <th>3</th>\n",
       "      <td>Bouie</td>\n",
       "      <td>Jamelle.</td>\n",
       "      <td></td>\n",
       "    </tr>\n",
       "    <tr>\n",
       "      <th>4</th>\n",
       "      <td>Proulx</td>\n",
       "      <td>Natalie.</td>\n",
       "      <td></td>\n",
       "    </tr>\n",
       "  </tbody>\n",
       "</table>\n",
       "</div>"
      ],
      "text/plain": [
       "        0         1 2\n",
       "0   Masad    Ilana.  \n",
       "1  Litman    Harry.  \n",
       "2   Hwang    Suein.  \n",
       "3   Bouie  Jamelle.  \n",
       "4  Proulx  Natalie.  "
      ]
     },
     "execution_count": 105,
     "metadata": {},
     "output_type": "execute_result"
    }
   ],
   "source": [
    "names = df['autor'].str.split(', ', expand=True)\n",
    "\n",
    "# 1) split col 1 into “first” and “after” parts\n",
    "split1 = names[1].str.split(';', n=1, expand=True)\n",
    "# split1[0] = before “;”, split1[1] = after “;” (or NaN)\n",
    "\n",
    "# 2) overwrite col 1 with the part before “;”\n",
    "names[1] = split1[0].str.strip()\n",
    "\n",
    "# 3) merge “after” with the old col 2\n",
    "#    – if there was an “after”, prepend it plus “; ”  \n",
    "#    – if not, just keep the old col 2\n",
    "names[2] = (\n",
    "    split1[1].fillna('')        # the “after” part or empty\n",
    "    .str.strip()                # trim stray spaces\n",
    "    .where(                     # where it’s non-empty\n",
    "        split1[1].notna(),\n",
    "        ''                      # otherwise empty\n",
    "    )\n",
    "    .add(\n",
    "        pd.Series(\n",
    "            '; ' + names[2].fillna(''), \n",
    "            index=names.index\n",
    "        )\n",
    "    )\n",
    "    .str.strip('; ')            # remove leading/trailing “; ”\n",
    ")\n",
    "\n",
    "# 4) drop the helper split1 if you like\n",
    "del split1\n",
    "\n",
    "\n",
    "names.head()\n"
   ]
  },
  {
   "cell_type": "code",
   "execution_count": 106,
   "id": "60830eaa",
   "metadata": {},
   "outputs": [
    {
     "data": {
      "application/vnd.microsoft.datawrangler.viewer.v0+json": {
       "columns": [
        {
         "name": "index",
         "rawType": "int64",
         "type": "integer"
        },
        {
         "name": "0",
         "rawType": "object",
         "type": "string"
        }
       ],
       "conversionMethod": "pd.DataFrame",
       "ref": "6a25fe4b-6a9c-49fc-b8e8-de5ac059be98",
       "rows": [
        [
         "0",
         "Ilana Masad "
        ],
        [
         "1",
         "Harry Litman "
        ],
        [
         "2",
         "Suein Hwang "
        ],
        [
         "3",
         "Jamelle Bouie "
        ],
        [
         "4",
         "Natalie Proulx "
        ]
       ],
       "shape": {
        "columns": 1,
        "rows": 5
       }
      },
      "text/html": [
       "<div>\n",
       "<style scoped>\n",
       "    .dataframe tbody tr th:only-of-type {\n",
       "        vertical-align: middle;\n",
       "    }\n",
       "\n",
       "    .dataframe tbody tr th {\n",
       "        vertical-align: top;\n",
       "    }\n",
       "\n",
       "    .dataframe thead th {\n",
       "        text-align: right;\n",
       "    }\n",
       "</style>\n",
       "<table border=\"1\" class=\"dataframe\">\n",
       "  <thead>\n",
       "    <tr style=\"text-align: right;\">\n",
       "      <th></th>\n",
       "      <th>0</th>\n",
       "    </tr>\n",
       "  </thead>\n",
       "  <tbody>\n",
       "    <tr>\n",
       "      <th>0</th>\n",
       "      <td>Ilana Masad</td>\n",
       "    </tr>\n",
       "    <tr>\n",
       "      <th>1</th>\n",
       "      <td>Harry Litman</td>\n",
       "    </tr>\n",
       "    <tr>\n",
       "      <th>2</th>\n",
       "      <td>Suein Hwang</td>\n",
       "    </tr>\n",
       "    <tr>\n",
       "      <th>3</th>\n",
       "      <td>Jamelle Bouie</td>\n",
       "    </tr>\n",
       "    <tr>\n",
       "      <th>4</th>\n",
       "      <td>Natalie Proulx</td>\n",
       "    </tr>\n",
       "  </tbody>\n",
       "</table>\n",
       "</div>"
      ],
      "text/plain": [
       "                 0\n",
       "0     Ilana Masad \n",
       "1    Harry Litman \n",
       "2     Suein Hwang \n",
       "3   Jamelle Bouie \n",
       "4  Natalie Proulx "
      ]
     },
     "execution_count": 106,
     "metadata": {},
     "output_type": "execute_result"
    }
   ],
   "source": [
    "def normalizeNames(row):\n",
    "    if row[1] != None:\n",
    "        ret = str(row[1]).strip('.;') +\" \"+ str(row[0]).strip(';. ')\n",
    "        if row[2] != None:\n",
    "            return ret + \" \"+str(row[2]).strip(';.')\n",
    "        else:\n",
    "            return ret\n",
    "    else:\n",
    "        return row[0]\n",
    "names[0] = names.apply(normalizeNames, axis=1)\n",
    "del names[1]\n",
    "del names[2]\n",
    "names.head()"
   ]
  },
  {
   "cell_type": "code",
   "execution_count": 107,
   "id": "49f7a376",
   "metadata": {},
   "outputs": [
    {
     "data": {
      "application/vnd.microsoft.datawrangler.viewer.v0+json": {
       "columns": [
        {
         "name": "index",
         "rawType": "int64",
         "type": "integer"
        },
        {
         "name": "author_name",
         "rawType": "object",
         "type": "string"
        },
        {
         "name": "author_id",
         "rawType": "int64",
         "type": "integer"
        }
       ],
       "conversionMethod": "pd.DataFrame",
       "ref": "1fa922c0-5ecf-42fa-aaf2-cdc05b000e92",
       "rows": [
        [
         "0",
         "Ilana Masad",
         "2"
        ],
        [
         "1",
         "Harry Litman",
         "3"
        ],
        [
         "2",
         "Suein Hwang",
         "4"
        ],
        [
         "3",
         "Jamelle Bouie",
         "5"
        ],
        [
         "4",
         "Natalie Proulx",
         "6"
        ]
       ],
       "shape": {
        "columns": 2,
        "rows": 5
       }
      },
      "text/html": [
       "<div>\n",
       "<style scoped>\n",
       "    .dataframe tbody tr th:only-of-type {\n",
       "        vertical-align: middle;\n",
       "    }\n",
       "\n",
       "    .dataframe tbody tr th {\n",
       "        vertical-align: top;\n",
       "    }\n",
       "\n",
       "    .dataframe thead th {\n",
       "        text-align: right;\n",
       "    }\n",
       "</style>\n",
       "<table border=\"1\" class=\"dataframe\">\n",
       "  <thead>\n",
       "    <tr style=\"text-align: right;\">\n",
       "      <th></th>\n",
       "      <th>author_name</th>\n",
       "      <th>author_id</th>\n",
       "    </tr>\n",
       "  </thead>\n",
       "  <tbody>\n",
       "    <tr>\n",
       "      <th>0</th>\n",
       "      <td>Ilana Masad</td>\n",
       "      <td>2</td>\n",
       "    </tr>\n",
       "    <tr>\n",
       "      <th>1</th>\n",
       "      <td>Harry Litman</td>\n",
       "      <td>3</td>\n",
       "    </tr>\n",
       "    <tr>\n",
       "      <th>2</th>\n",
       "      <td>Suein Hwang</td>\n",
       "      <td>4</td>\n",
       "    </tr>\n",
       "    <tr>\n",
       "      <th>3</th>\n",
       "      <td>Jamelle Bouie</td>\n",
       "      <td>5</td>\n",
       "    </tr>\n",
       "    <tr>\n",
       "      <th>4</th>\n",
       "      <td>Natalie Proulx</td>\n",
       "      <td>6</td>\n",
       "    </tr>\n",
       "  </tbody>\n",
       "</table>\n",
       "</div>"
      ],
      "text/plain": [
       "      author_name  author_id\n",
       "0     Ilana Masad          2\n",
       "1    Harry Litman          3\n",
       "2     Suein Hwang          4\n",
       "3   Jamelle Bouie          5\n",
       "4  Natalie Proulx          6"
      ]
     },
     "execution_count": 107,
     "metadata": {},
     "output_type": "execute_result"
    }
   ],
   "source": [
    "# add again autor_id column to names\n",
    "names['author_id'] = df['id_autor']\n",
    "names = names.rename(columns={0: 'author_name'})\n",
    "# remove space at the end of the author_name\n",
    "names['author_name'] = names['author_name'].str.strip()\n",
    "# remove all white spaces and replace them with a single space\n",
    "names['author_name'] = names['author_name'].str.replace(r'\\s+', ' ', regex=True)\n",
    "# replace tab with space\n",
    "names['author_name'] = names['author_name'].str.replace('\\t', ' ')\n",
    "\n",
    "names.head()"
   ]
  },
  {
   "cell_type": "code",
   "execution_count": 108,
   "id": "e0d1c331",
   "metadata": {},
   "outputs": [
    {
     "data": {
      "application/vnd.microsoft.datawrangler.viewer.v0+json": {
       "columns": [
        {
         "name": "index",
         "rawType": "int64",
         "type": "integer"
        },
        {
         "name": "author_name",
         "rawType": "object",
         "type": "string"
        },
        {
         "name": "author_id",
         "rawType": "int64",
         "type": "integer"
        }
       ],
       "conversionMethod": "pd.DataFrame",
       "ref": "2c4c19e6-dce2-4648-abc5-f368f5b896d8",
       "rows": [
        [
         "0",
         "Ilana Masad",
         "2"
        ],
        [
         "1",
         "Harry Litman",
         "3"
        ],
        [
         "2",
         "Suein Hwang",
         "4"
        ],
        [
         "3",
         "Jamelle Bouie",
         "5"
        ],
        [
         "4",
         "Natalie Proulx",
         "6"
        ]
       ],
       "shape": {
        "columns": 2,
        "rows": 5
       }
      },
      "text/html": [
       "<div>\n",
       "<style scoped>\n",
       "    .dataframe tbody tr th:only-of-type {\n",
       "        vertical-align: middle;\n",
       "    }\n",
       "\n",
       "    .dataframe tbody tr th {\n",
       "        vertical-align: top;\n",
       "    }\n",
       "\n",
       "    .dataframe thead th {\n",
       "        text-align: right;\n",
       "    }\n",
       "</style>\n",
       "<table border=\"1\" class=\"dataframe\">\n",
       "  <thead>\n",
       "    <tr style=\"text-align: right;\">\n",
       "      <th></th>\n",
       "      <th>author_name</th>\n",
       "      <th>author_id</th>\n",
       "    </tr>\n",
       "  </thead>\n",
       "  <tbody>\n",
       "    <tr>\n",
       "      <th>0</th>\n",
       "      <td>Ilana Masad</td>\n",
       "      <td>2</td>\n",
       "    </tr>\n",
       "    <tr>\n",
       "      <th>1</th>\n",
       "      <td>Harry Litman</td>\n",
       "      <td>3</td>\n",
       "    </tr>\n",
       "    <tr>\n",
       "      <th>2</th>\n",
       "      <td>Suein Hwang</td>\n",
       "      <td>4</td>\n",
       "    </tr>\n",
       "    <tr>\n",
       "      <th>3</th>\n",
       "      <td>Jamelle Bouie</td>\n",
       "      <td>5</td>\n",
       "    </tr>\n",
       "    <tr>\n",
       "      <th>4</th>\n",
       "      <td>Natalie Proulx</td>\n",
       "      <td>6</td>\n",
       "    </tr>\n",
       "  </tbody>\n",
       "</table>\n",
       "</div>"
      ],
      "text/plain": [
       "      author_name  author_id\n",
       "0     Ilana Masad          2\n",
       "1    Harry Litman          3\n",
       "2     Suein Hwang          4\n",
       "3   Jamelle Bouie          5\n",
       "4  Natalie Proulx          6"
      ]
     },
     "execution_count": 108,
     "metadata": {},
     "output_type": "execute_result"
    }
   ],
   "source": [
    "#drop duplicates\n",
    "names = names.drop_duplicates(subset=['author_id'], keep='first')\n",
    "names.head()"
   ]
  },
  {
   "cell_type": "code",
   "execution_count": 109,
   "id": "9d590264",
   "metadata": {},
   "outputs": [],
   "source": [
    "#save to csv\n",
    "names.to_csv('../data/raw/authors_normalized.csv', index=False)"
   ]
  }
 ],
 "metadata": {
  "kernelspec": {
   "display_name": ".venv",
   "language": "python",
   "name": "python3"
  },
  "language_info": {
   "codemirror_mode": {
    "name": "ipython",
    "version": 3
   },
   "file_extension": ".py",
   "mimetype": "text/x-python",
   "name": "python",
   "nbconvert_exporter": "python",
   "pygments_lexer": "ipython3",
   "version": "3.12.10"
  }
 },
 "nbformat": 4,
 "nbformat_minor": 5
}
